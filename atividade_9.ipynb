{
 "cells": [
  {
   "cell_type": "markdown",
   "metadata": {},
   "source": [
    "Trabalho 9 de PLN"
   ]
  },
  {
   "cell_type": "code",
   "execution_count": 2,
   "metadata": {},
   "outputs": [
    {
     "name": "stdout",
     "output_type": "stream",
     "text": [
      "Defaulting to user installation because normal site-packages is not writeable\n",
      "Requirement already satisfied: pypdf2 in /home/ytallomendes/.local/lib/python3.10/site-packages (3.0.1)\n",
      "Note: you may need to restart the kernel to use updated packages.\n"
     ]
    }
   ],
   "source": [
    "pip install pypdf2\n"
   ]
  },
  {
   "cell_type": "code",
   "execution_count": 3,
   "metadata": {},
   "outputs": [
    {
     "ename": "FileNotFoundError",
     "evalue": "[Errno 2] No such file or directory: 'incidentes'",
     "output_type": "error",
     "traceback": [
      "\u001b[0;31m---------------------------------------------------------------------------\u001b[0m",
      "\u001b[0;31mFileNotFoundError\u001b[0m                         Traceback (most recent call last)",
      "Cell \u001b[0;32mIn[3], line 12\u001b[0m\n\u001b[1;32m      9\u001b[0m merger \u001b[38;5;241m=\u001b[39m PdfMerger()\n\u001b[1;32m     11\u001b[0m \u001b[38;5;66;03m# Liste e ordene os arquivos PDF no diretório\u001b[39;00m\n\u001b[0;32m---> 12\u001b[0m pdf_files \u001b[38;5;241m=\u001b[39m [f \u001b[38;5;28;01mfor\u001b[39;00m f \u001b[38;5;129;01min\u001b[39;00m \u001b[43mos\u001b[49m\u001b[38;5;241;43m.\u001b[39;49m\u001b[43mlistdir\u001b[49m\u001b[43m(\u001b[49m\u001b[43mpdf_dir\u001b[49m\u001b[43m)\u001b[49m \u001b[38;5;28;01mif\u001b[39;00m f\u001b[38;5;241m.\u001b[39mendswith(\u001b[38;5;124m'\u001b[39m\u001b[38;5;124m.pdf\u001b[39m\u001b[38;5;124m'\u001b[39m)]\n\u001b[1;32m     13\u001b[0m pdf_files\u001b[38;5;241m.\u001b[39msort()\n\u001b[1;32m     15\u001b[0m \u001b[38;5;66;03m# Adicione cada PDF ao merger\u001b[39;00m\n",
      "\u001b[0;31mFileNotFoundError\u001b[0m: [Errno 2] No such file or directory: 'incidentes'"
     ]
    }
   ],
   "source": [
    "import os\n",
    "from PyPDF2 import PdfMerger\n",
    "\n",
    "# Diretório onde estão os arquivos PDF\n",
    "pdf_dir = \"incidents\"\n",
    "output_file = \"arquivo_combinado.pdf\"\n",
    "\n",
    "# Inicialize o PdfMerger\n",
    "merger = PdfMerger()\n",
    "\n",
    "# Liste e ordene os arquivos PDF no diretório\n",
    "pdf_files = [f for f in os.listdir(pdf_dir) if f.endswith('.pdf')]\n",
    "pdf_files.sort()\n",
    "\n",
    "# Adicione cada PDF ao merger\n",
    "for pdf in pdf_files:\n",
    "    pdf_path = os.path.join(pdf_dir, pdf)\n",
    "    merger.append(pdf_path)\n",
    "\n",
    "# Salve o PDF combinado\n",
    "merger.write(output_file)\n",
    "merger.close()\n",
    "\n",
    "print(f\"PDF combinado salvo como {output_file}\")\n"
   ]
  }
 ],
 "metadata": {
  "kernelspec": {
   "display_name": "Python 3",
   "language": "python",
   "name": "python3"
  },
  "language_info": {
   "codemirror_mode": {
    "name": "ipython",
    "version": 3
   },
   "file_extension": ".py",
   "mimetype": "text/x-python",
   "name": "python",
   "nbconvert_exporter": "python",
   "pygments_lexer": "ipython3",
   "version": "3.10.12"
  }
 },
 "nbformat": 4,
 "nbformat_minor": 2
}
